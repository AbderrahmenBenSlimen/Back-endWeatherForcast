{
 "cells": [
  {
   "cell_type": "code",
   "execution_count": null,
   "id": "898a4626-a2fc-47c7-8a6a-e80398435254",
   "metadata": {},
   "outputs": [],
   "source": [
    "\n",
    "# Clean the data (see my previous message for steps)\n",
    "\n",
    "# Split the data into training and testing sets\n",
    "train = df[df['Date'] < '2016-01-01']\n",
    "test = df[df['Date'] >= '2016-01-01']\n",
    "\n",
    "# Define the features and target variable\n",
    "features = ['Temperature (C)', 'Humidity']\n",
    "target = 'Summary'\n",
    "\n",
    "# Train a random forest regression model\n",
    "model = RandomForestRegressor(n_estimators=100, random_state=42)\n",
    "model.fit(train[features], train[target])\n",
    "\n",
    "# Use the model to make predictions for the next 7 days\n",
    "future_dates = pd.date_range(start=test['Date'].max(), periods=7, freq='D')\n",
    "future_weather = forecasted_data\n",
    "future_weather.index = future_dates\n",
    "predictions = model.predict(future_weather)\n",
    "\n",
    "# Print the predicted weather for each day\n",
    "for i, date in enumerate(future_dates):\n",
    "    print(f'On {date.date()}, the weather is predicted to be \"{predictions[i]}\".')\n"
   ]
  }
 ],
 "metadata": {
  "kernelspec": {
   "display_name": "Python 3 (ipykernel)",
   "language": "python",
   "name": "python3"
  },
  "language_info": {
   "codemirror_mode": {
    "name": "ipython",
    "version": 3
   },
   "file_extension": ".py",
   "mimetype": "text/x-python",
   "name": "python",
   "nbconvert_exporter": "python",
   "pygments_lexer": "ipython3",
   "version": "3.11.1"
  }
 },
 "nbformat": 4,
 "nbformat_minor": 5
}
